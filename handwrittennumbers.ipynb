{
 "cells": [
  {
   "cell_type": "code",
   "execution_count": 7,
   "metadata": {},
   "outputs": [
    {
     "name": "stdout",
     "output_type": "stream",
     "text": [
      "Extracting MNIST_data/train-images-idx3-ubyte.gz\n",
      "Extracting MNIST_data/train-labels-idx1-ubyte.gz\n",
      "Extracting MNIST_data/t10k-images-idx3-ubyte.gz\n",
      "Extracting MNIST_data/t10k-labels-idx1-ubyte.gz\n"
     ]
    }
   ],
   "source": [
    "import tensorflow as tf\n",
    "import numpy as np\n",
    "import datetime\n",
    "import matplotlib.pyplot as plt\n",
    "%matplotlib inline\n",
    "\n",
    "from tensorflow.examples.tutorials.mnist import input_data\n",
    "mnist = input_data.read_data_sets(\"MNIST_data/\")"
   ]
  },
  {
   "cell_type": "code",
   "execution_count": 8,
   "metadata": {},
   "outputs": [
    {
     "name": "stdout",
     "output_type": "stream",
     "text": [
      "(1, 784)\n"
     ]
    },
    {
     "data": {
      "text/plain": [
       "<matplotlib.image.AxesImage at 0x1c31d84fd0>"
      ]
     },
     "execution_count": 8,
     "metadata": {},
     "output_type": "execute_result"
    },
    {
     "data": {
      "image/png": "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\n",
      "text/plain": [
       "<matplotlib.figure.Figure at 0x1c31cf3048>"
      ]
     },
     "metadata": {},
     "output_type": "display_data"
    }
   ],
   "source": [
    "sample_image = mnist.train.next_batch(1)[0]\n",
    "print(sample_image.shape)\n",
    "\n",
    "sample_image = sample_image.reshape([28, 28])\n",
    "plt.imshow(sample_image, cmap='Greys')"
   ]
  },
  {
   "cell_type": "code",
   "execution_count": 9,
   "metadata": {},
   "outputs": [],
   "source": [
    "def discriminator(images, reuse=False):\n",
    "    if (reuse):\n",
    "        tf.get_variable_scope().reuse_variables()\n",
    "\n",
    "    # First convolutional and pool layers\n",
    "    # This finds 32 different 5 x 5 pixel features\n",
    "    d_w1 = tf.get_variable('d_w1', [5, 5, 1, 32], initializer=tf.truncated_normal_initializer(stddev=0.02))\n",
    "    d_b1 = tf.get_variable('d_b1', [32], initializer=tf.constant_initializer(0))\n",
    "    d1 = tf.nn.conv2d(input=images, filter=d_w1, strides=[1, 1, 1, 1], padding='SAME')\n",
    "    d1 = d1 + d_b1\n",
    "    d1 = tf.nn.relu(d1)\n",
    "    d1 = tf.nn.avg_pool(d1, ksize=[1, 2, 2, 1], strides=[1, 2, 2, 1], padding='SAME')\n",
    "\n",
    "    # Second convolutional and pool layers\n",
    "    # This finds 64 different 5 x 5 pixel features\n",
    "    d_w2 = tf.get_variable('d_w2', [5, 5, 32, 64], initializer=tf.truncated_normal_initializer(stddev=0.02))\n",
    "    d_b2 = tf.get_variable('d_b2', [64], initializer=tf.constant_initializer(0))\n",
    "    d2 = tf.nn.conv2d(input=d1, filter=d_w2, strides=[1, 1, 1, 1], padding='SAME')\n",
    "    d2 = d2 + d_b2\n",
    "    d2 = tf.nn.relu(d2)\n",
    "    d2 = tf.nn.avg_pool(d2, ksize=[1, 2, 2, 1], strides=[1, 2, 2, 1], padding='SAME')\n",
    "\n",
    "    # First fully connected layer\n",
    "    d_w3 = tf.get_variable('d_w3', [7 * 7 * 64, 1024], initializer=tf.truncated_normal_initializer(stddev=0.02))\n",
    "    d_b3 = tf.get_variable('d_b3', [1024], initializer=tf.constant_initializer(0))\n",
    "    d3 = tf.reshape(d2, [-1, 7 * 7 * 64])\n",
    "    d3 = tf.matmul(d3, d_w3)\n",
    "    d3 = d3 + d_b3\n",
    "    d3 = tf.nn.relu(d3)\n",
    "\n",
    "    # Second fully connected layer\n",
    "    d_w4 = tf.get_variable('d_w4', [1024, 1], initializer=tf.truncated_normal_initializer(stddev=0.02))\n",
    "    d_b4 = tf.get_variable('d_b4', [1], initializer=tf.constant_initializer(0))\n",
    "    d4 = tf.matmul(d3, d_w4) + d_b4\n",
    "\n",
    "    # d4 contains unscaled values\n",
    "    return d4"
   ]
  },
  {
   "cell_type": "code",
   "execution_count": 10,
   "metadata": {},
   "outputs": [],
   "source": [
    "def generator(z, batch_size, z_dim):\n",
    "    g_w1 = tf.get_variable('g_w1', [z_dim, 3136], dtype=tf.float32, initializer=tf.truncated_normal_initializer(stddev=0.02))\n",
    "    g_b1 = tf.get_variable('g_b1', [3136], initializer=tf.truncated_normal_initializer(stddev=0.02))\n",
    "    g1 = tf.matmul(z, g_w1) + g_b1\n",
    "    g1 = tf.reshape(g1, [-1, 56, 56, 1])\n",
    "    g1 = tf.contrib.layers.batch_norm(g1, epsilon=1e-5, scope='bn1')\n",
    "    g1 = tf.nn.relu(g1)\n",
    "\n",
    "    # Generate 50 features\n",
    "    g_w2 = tf.get_variable('g_w2', [3, 3, 1, z_dim/2], dtype=tf.float32, initializer=tf.truncated_normal_initializer(stddev=0.02))\n",
    "    g_b2 = tf.get_variable('g_b2', [z_dim/2], initializer=tf.truncated_normal_initializer(stddev=0.02))\n",
    "    g2 = tf.nn.conv2d(g1, g_w2, strides=[1, 2, 2, 1], padding='SAME')\n",
    "    g2 = g2 + g_b2\n",
    "    g2 = tf.contrib.layers.batch_norm(g2, epsilon=1e-5, scope='bn2')\n",
    "    g2 = tf.nn.relu(g2)\n",
    "    g2 = tf.image.resize_images(g2, [56, 56])\n",
    "\n",
    "    # Generate 25 features\n",
    "    g_w3 = tf.get_variable('g_w3', [3, 3, z_dim/2, z_dim/4], dtype=tf.float32, initializer=tf.truncated_normal_initializer(stddev=0.02))\n",
    "    g_b3 = tf.get_variable('g_b3', [z_dim/4], initializer=tf.truncated_normal_initializer(stddev=0.02))\n",
    "    g3 = tf.nn.conv2d(g2, g_w3, strides=[1, 2, 2, 1], padding='SAME')\n",
    "    g3 = g3 + g_b3\n",
    "    g3 = tf.contrib.layers.batch_norm(g3, epsilon=1e-5, scope='bn3')\n",
    "    g3 = tf.nn.relu(g3)\n",
    "    g3 = tf.image.resize_images(g3, [56, 56])\n",
    "\n",
    "    # Final convolution with one output channel\n",
    "    g_w4 = tf.get_variable('g_w4', [1, 1, z_dim/4, 1], dtype=tf.float32, initializer=tf.truncated_normal_initializer(stddev=0.02))\n",
    "    g_b4 = tf.get_variable('g_b4', [1], initializer=tf.truncated_normal_initializer(stddev=0.02))\n",
    "    g4 = tf.nn.conv2d(g3, g_w4, strides=[1, 2, 2, 1], padding='SAME')\n",
    "    g4 = g4 + g_b4\n",
    "    g4 = tf.sigmoid(g4)\n",
    "\n",
    "    # Dimensions of g4: batch_size x 28 x 28 x 1\n",
    "    return g4"
   ]
  },
  {
   "cell_type": "code",
   "execution_count": 11,
   "metadata": {},
   "outputs": [],
   "source": [
    "z_dimensions = 100\n",
    "z_placeholder = tf.placeholder(tf.float32, [None, z_dimensions])"
   ]
  },
  {
   "cell_type": "code",
   "execution_count": 12,
   "metadata": {},
   "outputs": [],
   "source": [
    "generated_image_output = generator(z_placeholder, 1, z_dimensions)\n",
    "z_batch = np.random.normal(0, 1, [1, z_dimensions])"
   ]
  },
  {
   "cell_type": "code",
   "execution_count": 13,
   "metadata": {},
   "outputs": [
    {
     "data": {
      "image/png": "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\n",
      "text/plain": [
       "<matplotlib.figure.Figure at 0x1c3f179198>"
      ]
     },
     "metadata": {},
     "output_type": "display_data"
    }
   ],
   "source": [
    "with tf.Session() as sess:\n",
    "    sess.run(tf.global_variables_initializer())\n",
    "    generated_image = sess.run(generated_image_output,\n",
    "                                feed_dict={z_placeholder: z_batch})\n",
    "    generated_image = generated_image.reshape([28, 28])\n",
    "    plt.imshow(generated_image, cmap='Greys')"
   ]
  },
  {
   "cell_type": "code",
   "execution_count": 14,
   "metadata": {},
   "outputs": [],
   "source": [
    "tf.reset_default_graph()\n",
    "batch_size = 50\n",
    "\n",
    "z_placeholder = tf.placeholder(tf.float32, [None, z_dimensions], name='z_placeholder') \n",
    "# z_placeholder is for feeding input noise to the generator\n",
    "\n",
    "x_placeholder = tf.placeholder(tf.float32, shape = [None,28,28,1], name='x_placeholder') \n",
    "# x_placeholder is for feeding input images to the discriminator\n",
    "\n",
    "Gz = generator(z_placeholder, batch_size, z_dimensions) \n",
    "# Gz holds the generated images\n",
    "\n",
    "Dx = discriminator(x_placeholder) \n",
    "# Dx will hold discriminator prediction probabilities\n",
    "# for the real MNIST images\n",
    "\n",
    "Dg = discriminator(Gz, reuse=True)\n",
    "# Dg will hold discriminator prediction probabilities for generated images"
   ]
  },
  {
   "cell_type": "code",
   "execution_count": 27,
   "metadata": {},
   "outputs": [],
   "source": [
    "d_loss_real = tf.reduce_mean(tf.nn.sigmoid_cross_entropy_with_logits(logits = Dx, labels = tf.ones_like(Dx)))\n",
    "d_loss_fake = tf.reduce_mean(tf.nn.sigmoid_cross_entropy_with_logits(logits = Dg, labels = tf.zeros_like(Dg)))"
   ]
  },
  {
   "cell_type": "code",
   "execution_count": 28,
   "metadata": {},
   "outputs": [],
   "source": [
    "g_loss = tf.reduce_mean(tf.nn.sigmoid_cross_entropy_with_logits(logits = Dg, labels = tf.ones_like(Dg)))"
   ]
  },
  {
   "cell_type": "code",
   "execution_count": 31,
   "metadata": {},
   "outputs": [
    {
     "name": "stdout",
     "output_type": "stream",
     "text": [
      "['d_w1:0', 'd_b1:0', 'd_w2:0', 'd_b2:0', 'd_w3:0', 'd_b3:0', 'd_w4:0', 'd_b4:0']\n",
      "['g_w1:0', 'g_b1:0', 'g_w2:0', 'g_b2:0', 'g_w3:0', 'g_b3:0', 'g_w4:0', 'g_b4:0']\n",
      "[<tf.Variable 'd_w1:0' shape=(5, 5, 1, 32) dtype=float32_ref>, <tf.Variable 'd_b1:0' shape=(32,) dtype=float32_ref>, <tf.Variable 'd_w2:0' shape=(5, 5, 32, 64) dtype=float32_ref>, <tf.Variable 'd_b2:0' shape=(64,) dtype=float32_ref>, <tf.Variable 'd_w3:0' shape=(3136, 1024) dtype=float32_ref>, <tf.Variable 'd_b3:0' shape=(1024,) dtype=float32_ref>, <tf.Variable 'd_w4:0' shape=(1024, 1) dtype=float32_ref>, <tf.Variable 'd_b4:0' shape=(1,) dtype=float32_ref>]\n"
     ]
    }
   ],
   "source": [
    "tvars = tf.trainable_variables()\n",
    "\n",
    "d_vars = [var for var in tvars if 'd_' in var.name]\n",
    "g_vars = [var for var in tvars if 'g_' in var.name]\n",
    "\n",
    "print([v.name for v in d_vars])\n",
    "print([v.name for v in g_vars])\n",
    "print(d_vars)"
   ]
  },
  {
   "cell_type": "code",
   "execution_count": 41,
   "metadata": {},
   "outputs": [],
   "source": [
    "with tf.variable_scope(tf.get_variable_scope(), reuse=tf.AUTO_REUSE):\n",
    "    d_trainer_fake = tf.train.AdamOptimizer(0.0003).minimize(d_loss_fake, var_list=d_vars)\n",
    "    d_trainer_real = tf.train.AdamOptimizer(0.0003).minimize(d_loss_real, var_list=d_vars)\n",
    "    g_trainer = tf.train.AdamOptimizer(0.0001).minimize(g_loss, var_list=g_vars)"
   ]
  },
  {
   "cell_type": "code",
   "execution_count": 42,
   "metadata": {},
   "outputs": [],
   "source": [
    "# From this point forward, reuse variables\n",
    "tf.get_variable_scope().reuse_variables()\n",
    "\n",
    "tf.summary.scalar('Generator_loss', g_loss)\n",
    "tf.summary.scalar('Discriminator_loss_real', d_loss_real)\n",
    "tf.summary.scalar('Discriminator_loss_fake', d_loss_fake)\n",
    "\n",
    "images_for_tensorboard = generator(z_placeholder, batch_size, z_dimensions)\n",
    "tf.summary.image('Generated_images', images_for_tensorboard, 5)\n",
    "merged = tf.summary.merge_all()\n",
    "logdir = \"tensorboard/\" + datetime.datetime.now().strftime(\"%Y%m%d-%H%M%S\") + \"/\"\n",
    "writer = tf.summary.FileWriter(logdir, sess.graph)"
   ]
  },
  {
   "cell_type": "code",
   "execution_count": 44,
   "metadata": {},
   "outputs": [],
   "source": [
    "tf.summary.scalar('Generator_loss', g_loss)\n",
    "tf.summary.scalar('Discriminator_loss_real', d_loss_real)\n",
    "tf.summary.scalar('Discriminator_loss_fake', d_loss_fake)\n",
    "\n",
    "images_for_tensorboard = generator(z_placeholder, batch_size, z_dimensions)\n",
    "tf.summary.image('Generated_images', images_for_tensorboard, 5)\n",
    "merged = tf.summary.merge_all()\n",
    "logdir = \"tensorboard/\" + datetime.datetime.now().strftime(\"%Y%m%d-%H%M%S\") + \"/\"\n",
    "writer = tf.summary.FileWriter(logdir, sess.graph)"
   ]
  },
  
